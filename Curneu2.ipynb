{
  "nbformat": 4,
  "nbformat_minor": 0,
  "metadata": {
    "colab": {
      "name": "Curneu2.ipynb",
      "provenance": [],
      "collapsed_sections": []
    },
    "kernelspec": {
      "name": "python3",
      "display_name": "Python 3"
    }
  },
  "cells": [
    {
      "cell_type": "code",
      "metadata": {
        "id": "-e5GzfBHqmAn"
      },
      "source": [
        "import pandas as pd\r\n",
        "import numpy as np\r\n",
        "from sklearn.model_selection import train_test_split\r\n",
        "from sklearn.linear_model import LogisticRegression  \r\n",
        "from sklearn.preprocessing import StandardScaler \r\n",
        "from sklearn.metrics import confusion_matrix  \r\n",
        "from sklearn import metrics\r\n",
        "import seaborn as sns\r\n",
        "import matplotlib.pyplot as plt\r\n",
        "from sklearn.model_selection import train_test_split"
      ],
      "execution_count": 1,
      "outputs": []
    },
    {
      "cell_type": "code",
      "metadata": {
        "id": "2NbmtR5PrQ5i"
      },
      "source": [
        "dataset = pd.read_csv(\"/content/drive/MyDrive/Diabetes Database.csv\")\r\n",
        "#dataset.head()\r\n",
        "# importing the dataset form its file"
      ],
      "execution_count": 2,
      "outputs": []
    },
    {
      "cell_type": "code",
      "metadata": {
        "id": "U6h4o_xIrvdK"
      },
      "source": [
        "X = dataset.iloc[:,[0,1,2,3,4,5,6,7]]\r\n",
        "Y = dataset.iloc[:,8]\r\n",
        "# Setting up the variables for modeelling"
      ],
      "execution_count": 3,
      "outputs": []
    },
    {
      "cell_type": "code",
      "metadata": {
        "id": "SX7af8T5sP3w"
      },
      "source": [
        "#sns.pairplot(X,kind=\"scatter\")\r\n",
        "#plt.show()\r\n",
        "#X.corr()"
      ],
      "execution_count": 4,
      "outputs": []
    },
    {
      "cell_type": "code",
      "metadata": {
        "id": "867rlFXRtoES"
      },
      "source": [
        "x_train, x_test, y_train, y_test= train_test_split(X, Y, test_size= 0.3, random_state=0) # Creating a training and testing split in the data"
      ],
      "execution_count": 5,
      "outputs": []
    },
    {
      "cell_type": "code",
      "metadata": {
        "id": "9Kfw1aEXtr7x"
      },
      "source": [
        "st_x= StandardScaler()\r\n",
        "x_train= st_x.fit_transform(x_train)\r\n",
        "x_test= st_x.transform(x_test)\r\n",
        "# Standardising the data to enable beeter processing of data from various scales"
      ],
      "execution_count": 6,
      "outputs": []
    },
    {
      "cell_type": "code",
      "metadata": {
        "colab": {
          "base_uri": "https://localhost:8080/"
        },
        "id": "tpWGZMlPtxCR",
        "outputId": "14e7155c-6df0-405a-818b-0bae8b9a2d42"
      },
      "source": [
        "classifier= LogisticRegression(random_state=0)\r\n",
        "classifier.fit(x_train, y_train)\r\n",
        "# Building the model"
      ],
      "execution_count": 7,
      "outputs": [
        {
          "output_type": "execute_result",
          "data": {
            "text/plain": [
              "LogisticRegression(C=1.0, class_weight=None, dual=False, fit_intercept=True,\n",
              "                   intercept_scaling=1, l1_ratio=None, max_iter=100,\n",
              "                   multi_class='auto', n_jobs=None, penalty='l2',\n",
              "                   random_state=0, solver='lbfgs', tol=0.0001, verbose=0,\n",
              "                   warm_start=False)"
            ]
          },
          "metadata": {
            "tags": []
          },
          "execution_count": 7
        }
      ]
    },
    {
      "cell_type": "code",
      "metadata": {
        "colab": {
          "base_uri": "https://localhost:8080/"
        },
        "id": "myh4VOxqt4Dg",
        "outputId": "4d1d1f07-b3b4-49af-c196-3c6d6ef735f1"
      },
      "source": [
        "y_pred= classifier.predict(x_test)\r\n",
        "cm= confusion_matrix(y_test,y_pred)\r\n",
        "print(\"Accuracy of model is\",metrics.accuracy_score(y_test, y_pred))\r\n",
        "# Assessing the value of the output we got from the model"
      ],
      "execution_count": 8,
      "outputs": [
        {
          "output_type": "stream",
          "text": [
            "Accuracy of model is 0.7792207792207793\n"
          ],
          "name": "stdout"
        }
      ]
    }
  ]
}