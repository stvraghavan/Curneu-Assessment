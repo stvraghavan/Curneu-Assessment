{
  "nbformat": 4,
  "nbformat_minor": 0,
  "metadata": {
    "colab": {
      "name": "Curneu.ipynb",
      "provenance": [],
      "collapsed_sections": []
    },
    "kernelspec": {
      "name": "python3",
      "display_name": "Python 3"
    }
  },
  "cells": [
    {
      "cell_type": "code",
      "metadata": {
        "id": "WhMVQbvaQh0B"
      },
      "source": [
        "import pandas as pd\r\n",
        "import numpy as np\r\n",
        "from sklearn.model_selection import train_test_split\r\n",
        "from sklearn.neighbors import KNeighborsClassifier\r\n",
        "import xlrd \r\n",
        "import seaborn as sns\r\n",
        "import matplotlib.pyplot as plt\r\n",
        "from sklearn.preprocessing import StandardScaler"
      ],
      "execution_count": 1,
      "outputs": []
    },
    {
      "cell_type": "code",
      "metadata": {
        "id": "gPR-F6d8WFfI"
      },
      "source": [
        "dataset = pd.read_excel('/content/drive/MyDrive/fruits.xlsx') # Reading data from file"
      ],
      "execution_count": 2,
      "outputs": []
    },
    {
      "cell_type": "code",
      "metadata": {
        "id": "qj2OEhQnWgR7"
      },
      "source": [
        "X = dataset.iloc[:,[2,3,4,5]]\r\n",
        "Y = dataset.iloc[:,0]\r\n",
        "# Defining variables for modelling"
      ],
      "execution_count": 3,
      "outputs": []
    },
    {
      "cell_type": "code",
      "metadata": {
        "id": "SFXgXVmapUmc"
      },
      "source": [
        "#sns.pairplot(X, kind=\"scatter\")\r\n",
        "#plt.show()\r\n",
        "#X.corr()\r\n",
        "# Checking for relations between variables"
      ],
      "execution_count": 4,
      "outputs": []
    },
    {
      "cell_type": "code",
      "metadata": {
        "id": "pLP7UntUnck8"
      },
      "source": [
        "X = X.drop(labels = ['mass'],axis=1) # removing unnecessary variable"
      ],
      "execution_count": 5,
      "outputs": []
    },
    {
      "cell_type": "code",
      "metadata": {
        "id": "QfzbuW75Z8HP"
      },
      "source": [
        "X_train, X_test, Y_train, Y_test= train_test_split(X, Y, test_size= 0.3, random_state=0)  # Creating a test and trainnig split for modelling"
      ],
      "execution_count": 6,
      "outputs": []
    },
    {
      "cell_type": "code",
      "metadata": {
        "id": "yS7ANWDqaO-F"
      },
      "source": [
        "st_x= StandardScaler()    \r\n",
        "X_train= st_x.fit_transform(X_train)    \r\n",
        "X_test= st_x.transform(X_test)  \r\n",
        "# Standardizing the data for suitable modelling"
      ],
      "execution_count": 7,
      "outputs": []
    },
    {
      "cell_type": "code",
      "metadata": {
        "colab": {
          "base_uri": "https://localhost:8080/"
        },
        "id": "-Y128t8rboOm",
        "outputId": "920b28d7-27fa-4332-d3a4-03390eba73e9"
      },
      "source": [
        "classifier= KNeighborsClassifier(n_neighbors=5, metric='minkowski', p=2 )  \r\n",
        "classifier.fit(X_train, Y_train)\r\n",
        "# Fitting model"
      ],
      "execution_count": 8,
      "outputs": [
        {
          "output_type": "execute_result",
          "data": {
            "text/plain": [
              "KNeighborsClassifier(algorithm='auto', leaf_size=30, metric='minkowski',\n",
              "                     metric_params=None, n_jobs=None, n_neighbors=5, p=2,\n",
              "                     weights='uniform')"
            ]
          },
          "metadata": {
            "tags": []
          },
          "execution_count": 8
        }
      ]
    },
    {
      "cell_type": "code",
      "metadata": {
        "id": "_PbEiHszbvFT"
      },
      "source": [
        "y_pred= classifier.predict(X_test)"
      ],
      "execution_count": 9,
      "outputs": []
    },
    {
      "cell_type": "code",
      "metadata": {
        "colab": {
          "base_uri": "https://localhost:8080/"
        },
        "id": "o5UypJKAb0JU",
        "outputId": "dc582ffd-5171-43be-e1ca-35991ee69f05"
      },
      "source": [
        "from sklearn.metrics import confusion_matrix\r\n",
        "from sklearn import metrics\r\n",
        "cm= confusion_matrix(Y_test, y_pred)\r\n",
        "print(\"Accuracy of model at K=2 is\",metrics.accuracy_score(Y_test, y_pred))\r\n",
        "# First attempt at checking accuracy of the model using the data and random seed  formed by the splitter"
      ],
      "execution_count": 10,
      "outputs": [
        {
          "output_type": "stream",
          "text": [
            "Accuracy of model at K=2 is 0.9444444444444444\n"
          ],
          "name": "stdout"
        }
      ]
    },
    {
      "cell_type": "code",
      "metadata": {
        "colab": {
          "base_uri": "https://localhost:8080/"
        },
        "id": "Cs6AmBHkonDS",
        "outputId": "a1cf07c1-f170-411b-b963-db5bea6a6b43"
      },
      "source": [
        "for i in range(0,4):\r\n",
        "  X_train, X_test, Y_train, Y_test= train_test_split(X, Y, test_size= 0.3, random_state=i)\r\n",
        "  st_x= StandardScaler()\r\n",
        "  X_train= st_x.fit_transform(X_train)\r\n",
        "  X_test= st_x.transform(X_test)\r\n",
        "  classifier= KNeighborsClassifier(n_neighbors=5, metric='minkowski', p=2 )\r\n",
        "  classifier.fit(X_train, Y_train)\r\n",
        "  y_pred= classifier.predict(X_test)\r\n",
        "  cm= confusion_matrix(Y_test, y_pred)\r\n",
        "  print(\"Accuracy of model at K=\",i,\" is\",metrics.accuracy_score(Y_test, y_pred))\r\n",
        "  # Running various test cases for differnt values of the test and traing splitter so as to find differnt values as result and choosing the most suitable on for output"
      ],
      "execution_count": 11,
      "outputs": [
        {
          "output_type": "stream",
          "text": [
            "Accuracy of model at K= 0  is 0.9444444444444444\n",
            "Accuracy of model at K= 1  is 1.0\n",
            "Accuracy of model at K= 2  is 0.9444444444444444\n",
            "Accuracy of model at K= 3  is 0.9444444444444444\n"
          ],
          "name": "stdout"
        }
      ]
    }
  ]
}